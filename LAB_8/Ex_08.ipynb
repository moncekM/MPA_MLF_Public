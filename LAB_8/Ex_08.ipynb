{
 "cells": [
  {
   "cell_type": "markdown",
   "id": "4e658167-a5e2-42c5-9fa6-01f7021fbca4",
   "metadata": {
    "id": "4e658167-a5e2-42c5-9fa6-01f7021fbca4"
   },
   "source": [
    "# MKA-MLF, Lab_08 - RNN"
   ]
  },
  {
   "cell_type": "markdown",
   "id": "F6KltZSGklJQ",
   "metadata": {
    "id": "F6KltZSGklJQ"
   },
   "source": [
    "Recurrent Neural Networks, are a class of artificial neural networks designed to recognize patterns in sequences of data, such as text, genomes, handwriting, or spoken words. Unlike traditional neural networks, which assume all inputs (and outputs) are independent of each other, RNNs are designed to recognize sequential or temporal patterns, making them especially suited for tasks like language modeling, speech recognition, and time series prediction."
   ]
  },
  {
   "cell_type": "markdown",
   "id": "zheceqk2lMcA",
   "metadata": {
    "id": "zheceqk2lMcA"
   },
   "source": [
    "## Exercise 1 - Time Series Forecasting"
   ]
  },
  {
   "cell_type": "markdown",
   "id": "TzFZTA1DrJbG",
   "metadata": {
    "id": "TzFZTA1DrJbG"
   },
   "source": [
    "### 1.0 Import Libraries"
   ]
  },
  {
   "cell_type": "code",
   "execution_count": 103,
   "id": "Whyi3QznnAbG",
   "metadata": {
    "executionInfo": {
     "elapsed": 432,
     "status": "ok",
     "timestamp": 1712495811600,
     "user": {
      "displayName": "Jan Bolcek",
      "userId": "11245949610672084450"
     },
     "user_tz": -120
    },
    "id": "Whyi3QznnAbG"
   },
   "outputs": [],
   "source": [
    "import numpy as np\n",
    "import matplotlib.pyplot as plt\n",
    "import keras"
   ]
  },
  {
   "cell_type": "markdown",
   "id": "UBqkZx0lrCAP",
   "metadata": {
    "id": "UBqkZx0lrCAP"
   },
   "source": [
    "### 1.1 Generating dataset"
   ]
  },
  {
   "cell_type": "code",
   "execution_count": 104,
   "id": "Q_Q3ulmRlS6R",
   "metadata": {
    "executionInfo": {
     "elapsed": 718,
     "status": "ok",
     "timestamp": 1712494240070,
     "user": {
      "displayName": "Jan Bolcek",
      "userId": "11245949610672084450"
     },
     "user_tz": -120
    },
    "id": "Q_Q3ulmRlS6R"
   },
   "outputs": [],
   "source": [
    "def generate_time_series(batch_size, n_steps):\n",
    "  freq1, freq2, offsets1, offsets2 = np.random.rand(4, batch_size, 1)\n",
    "  time = np.linspace(0,1,n_steps)\n",
    "\n",
    "  series = 0.5 * np.sin((time - offsets1) * (freq1*10 + 10))\n",
    "  series += 0.2 * np.sin((time - offsets2) * (freq2*20 + 20))\n",
    "  series += 0.1 * (np.random.rand(batch_size, n_steps)- 0.5)\n",
    "  return series[..., np.newaxis].astype(np.float32)"
   ]
  },
  {
   "cell_type": "code",
   "execution_count": 105,
   "id": "p9kt6EQjkfvi",
   "metadata": {
    "executionInfo": {
     "elapsed": 272,
     "status": "ok",
     "timestamp": 1712494991842,
     "user": {
      "displayName": "Jan Bolcek",
      "userId": "11245949610672084450"
     },
     "user_tz": -120
    },
    "id": "p9kt6EQjkfvi"
   },
   "outputs": [],
   "source": [
    "data_size = 10000\n",
    "n_steps = 50\n",
    "np.random.seed(0)\n",
    "\n",
    "series = generate_time_series(data_size, n_steps + 1)"
   ]
  },
  {
   "cell_type": "markdown",
   "id": "5neyWb-NrQ98",
   "metadata": {
    "id": "5neyWb-NrQ98"
   },
   "source": [
    "### 1.2 Train/Valid/Test split"
   ]
  },
  {
   "cell_type": "code",
   "execution_count": 106,
   "id": "hPX75BPkmZqk",
   "metadata": {
    "executionInfo": {
     "elapsed": 2,
     "status": "ok",
     "timestamp": 1712494995260,
     "user": {
      "displayName": "Jan Bolcek",
      "userId": "11245949610672084450"
     },
     "user_tz": -120
    },
    "id": "hPX75BPkmZqk"
   },
   "outputs": [],
   "source": [
    "X_train, y_train = series[:7000, :n_steps], series[:7000, -1]\n",
    "X_valid, y_valid = series[7000:9000, :n_steps], series[7000:9000, -1]\n",
    "X_test, y_test = series[9000:, :n_steps], series[9000:, -1]"
   ]
  },
  {
   "cell_type": "code",
   "execution_count": 107,
   "id": "0DtVKkwzuoQZ",
   "metadata": {
    "executionInfo": {
     "elapsed": 319,
     "status": "ok",
     "timestamp": 1712496603157,
     "user": {
      "displayName": "Jan Bolcek",
      "userId": "11245949610672084450"
     },
     "user_tz": -120
    },
    "id": "0DtVKkwzuoQZ"
   },
   "outputs": [],
   "source": [
    "no_training_epochs = 5"
   ]
  },
  {
   "cell_type": "markdown",
   "id": "js6Qzm--rXmD",
   "metadata": {
    "id": "js6Qzm--rXmD"
   },
   "source": [
    "### 1.3 Data examination"
   ]
  },
  {
   "cell_type": "code",
   "execution_count": 108,
   "id": "GpXWorBknLSr",
   "metadata": {
    "colab": {
     "base_uri": "https://localhost:8080/",
     "height": 448
    },
    "executionInfo": {
     "elapsed": 329,
     "status": "ok",
     "timestamp": 1712494996519,
     "user": {
      "displayName": "Jan Bolcek",
      "userId": "11245949610672084450"
     },
     "user_tz": -120
    },
    "id": "GpXWorBknLSr",
    "outputId": "1f692c47-86e0-48fd-da55-7bedab7d3e10"
   },
   "outputs": [
    {
     "data": {
      "text/plain": [
       "[<matplotlib.lines.Line2D at 0x22d6f529fa0>]"
      ]
     },
     "execution_count": 108,
     "metadata": {},
     "output_type": "execute_result"
    },
    {
     "data": {
      "image/png": "[encoded data removed]",
      "text/plain": [
       "<Figure size 640x480 with 1 Axes>"
      ]
     },
     "metadata": {},
     "output_type": "display_data"
    }
   ],
   "source": [
    "plt.figure()\n",
    "plt.plot(X_train[0])\n",
    "plt.plot(n_steps+1, y_train[0], 'rx')"
   ]
  },
  {
   "cell_type": "markdown",
   "id": "GvgPXxfBrahC",
   "metadata": {
    "id": "GvgPXxfBrahC"
   },
   "source": [
    "### 1.4 Simple Linear model"
   ]
  },
  {
   "cell_type": "code",
   "execution_count": 109,
   "id": "g7izHKRso_an",
   "metadata": {
    "executionInfo": {
     "elapsed": 249,
     "status": "ok",
     "timestamp": 1712496739154,
     "user": {
      "displayName": "Jan Bolcek",
      "userId": "11245949610672084450"
     },
     "user_tz": -120
    },
    "id": "g7izHKRso_an"
   },
   "outputs": [],
   "source": [
    "# Model definition\n",
    "model_linear = keras.Sequential()\n",
    "model_linear.add(keras.layers.Flatten(input_shape=(50,1)))\n",
    "model_linear.add(keras.layers.Dense(1, activation = None))"
   ]
  },
  {
   "cell_type": "code",
   "execution_count": 110,
   "id": "csJhWfvypZw7",
   "metadata": {
    "executionInfo": {
     "elapsed": 235,
     "status": "ok",
     "timestamp": 1712496740689,
     "user": {
      "displayName": "Jan Bolcek",
      "userId": "11245949610672084450"
     },
     "user_tz": -120
    },
    "id": "csJhWfvypZw7"
   },
   "outputs": [],
   "source": [
    "# Model building\n",
    "\n",
    "learning_rate = 0.001\n",
    "optimizer = keras.optimizers.Adam(learning_rate)\n",
    "model_linear.compile(loss='mean_squared_error', optimizer=optimizer, metrics=['mean_squared_error'])"
   ]
  },
  {
   "cell_type": "code",
   "execution_count": 111,
   "id": "D3iBcNJQpnMv",
   "metadata": {
    "colab": {
     "base_uri": "https://localhost:8080/"
    },
    "executionInfo": {
     "elapsed": 266,
     "status": "ok",
     "timestamp": 1712496741963,
     "user": {
      "displayName": "Jan Bolcek",
      "userId": "11245949610672084450"
     },
     "user_tz": -120
    },
    "id": "D3iBcNJQpnMv",
    "outputId": "65b2b86c-e7b4-4416-a63f-94208e4649c0"
   },
   "outputs": [
    {
     "data": {
      "text/html": [
       "<pre style=\"white-space:pre;overflow-x:auto;line-height:normal;font-family:Menlo,'DejaVu Sans Mono',consolas,'Courier New',monospace\"><span style=\"font-weight: bold\">Model: \"sequential_11\"</span>\n",
       "</pre>\n"
      ],
      "text/plain": [
       "\u001b[1mModel: \"sequential_11\"\u001b[0m\n"
      ]
     },
     "metadata": {},
     "output_type": "display_data"
    },
    {
     "data": {
      "text/html": [
       "<pre style=\"white-space:pre;overflow-x:auto;line-height:normal;font-family:Menlo,'DejaVu Sans Mono',consolas,'Courier New',monospace\">┏━━━━━━━━━━━━━━━━━━━━━━━━━━━━━━━━━┳━━━━━━━━━━━━━━━━━━━━━━━━┳━━━━━━━━━━━━━━━┓\n",
       "┃<span style=\"font-weight: bold\"> Layer (type)                    </span>┃<span style=\"font-weight: bold\"> Output Shape           </span>┃<span style=\"font-weight: bold\">       Param # </span>┃\n",
       "┡━━━━━━━━━━━━━━━━━━━━━━━━━━━━━━━━━╇━━━━━━━━━━━━━━━━━━━━━━━━╇━━━━━━━━━━━━━━━┩\n",
       "│ flatten_2 (<span style=\"color: #0087ff; text-decoration-color: #0087ff\">Flatten</span>)             │ (<span style=\"color: #00d7ff; text-decoration-color: #00d7ff\">None</span>, <span style=\"color: #00af00; text-decoration-color: #00af00\">50</span>)             │             <span style=\"color: #00af00; text-decoration-color: #00af00\">0</span> │\n",
       "├─────────────────────────────────┼────────────────────────┼───────────────┤\n",
       "│ dense_7 (<span style=\"color: #0087ff; text-decoration-color: #0087ff\">Dense</span>)                 │ (<span style=\"color: #00d7ff; text-decoration-color: #00d7ff\">None</span>, <span style=\"color: #00af00; text-decoration-color: #00af00\">1</span>)              │            <span style=\"color: #00af00; text-decoration-color: #00af00\">51</span> │\n",
       "└─────────────────────────────────┴────────────────────────┴───────────────┘\n",
       "</pre>\n"
      ],
      "text/plain": [
       "┏━━━━━━━━━━━━━━━━━━━━━━━━━━━━━━━━━┳━━━━━━━━━━━━━━━━━━━━━━━━┳━━━━━━━━━━━━━━━┓\n",
       "┃\u001b[1m \u001b[0m\u001b[1mLayer (type)                   \u001b[0m\u001b[1m \u001b[0m┃\u001b[1m \u001b[0m\u001b[1mOutput Shape          \u001b[0m\u001b[1m \u001b[0m┃\u001b[1m \u001b[0m\u001b[1m      Param #\u001b[0m\u001b[1m \u001b[0m┃\n",
       "┡━━━━━━━━━━━━━━━━━━━━━━━━━━━━━━━━━╇━━━━━━━━━━━━━━━━━━━━━━━━╇━━━━━━━━━━━━━━━┩\n",
       "│ flatten_2 (\u001b[38;5;33mFlatten\u001b[0m)             │ (\u001b[38;5;45mNone\u001b[0m, \u001b[38;5;34m50\u001b[0m)             │             \u001b[38;5;34m0\u001b[0m │\n",
       "├─────────────────────────────────┼────────────────────────┼───────────────┤\n",
       "│ dense_7 (\u001b[38;5;33mDense\u001b[0m)                 │ (\u001b[38;5;45mNone\u001b[0m, \u001b[38;5;34m1\u001b[0m)              │            \u001b[38;5;34m51\u001b[0m │\n",
       "└─────────────────────────────────┴────────────────────────┴───────────────┘\n"
      ]
     },
     "metadata": {},
     "output_type": "display_data"
    },
    {
     "data": {
      "text/html": [
       "<pre style=\"white-space:pre;overflow-x:auto;line-height:normal;font-family:Menlo,'DejaVu Sans Mono',consolas,'Courier New',monospace\"><span style=\"font-weight: bold\"> Total params: </span><span style=\"color: #00af00; text-decoration-color: #00af00\">51</span> (204.00 B)\n",
       "</pre>\n"
      ],
      "text/plain": [
       "\u001b[1m Total params: \u001b[0m\u001b[38;5;34m51\u001b[0m (204.00 B)\n"
      ]
     },
     "metadata": {},
     "output_type": "display_data"
    },
    {
     "data": {
      "text/html": [
       "<pre style=\"white-space:pre;overflow-x:auto;line-height:normal;font-family:Menlo,'DejaVu Sans Mono',consolas,'Courier New',monospace\"><span style=\"font-weight: bold\"> Trainable params: </span><span style=\"color: #00af00; text-decoration-color: #00af00\">51</span> (204.00 B)\n",
       "</pre>\n"
      ],
      "text/plain": [
       "\u001b[1m Trainable params: \u001b[0m\u001b[38;5;34m51\u001b[0m (204.00 B)\n"
      ]
     },
     "metadata": {},
     "output_type": "display_data"
    },
    {
     "data": {
      "text/html": [
       "<pre style=\"white-space:pre;overflow-x:auto;line-height:normal;font-family:Menlo,'DejaVu Sans Mono',consolas,'Courier New',monospace\"><span style=\"font-weight: bold\"> Non-trainable params: </span><span style=\"color: #00af00; text-decoration-color: #00af00\">0</span> (0.00 B)\n",
       "</pre>\n"
      ],
      "text/plain": [
       "\u001b[1m Non-trainable params: \u001b[0m\u001b[38;5;34m0\u001b[0m (0.00 B)\n"
      ]
     },
     "metadata": {},
     "output_type": "display_data"
    }
   ],
   "source": [
    "model_linear.summary()"
   ]
  },
  {
   "cell_type": "code",
   "execution_count": 112,
   "id": "GGZMF0d9pmbv",
   "metadata": {
    "colab": {
     "base_uri": "https://localhost:8080/"
    },
    "executionInfo": {
     "elapsed": 4488,
     "status": "ok",
     "timestamp": 1712496748385,
     "user": {
      "displayName": "Jan Bolcek",
      "userId": "11245949610672084450"
     },
     "user_tz": -120
    },
    "id": "GGZMF0d9pmbv",
    "outputId": "61a66c3b-8961-407c-b95e-4357130009ff"
   },
   "outputs": [
    {
     "name": "stdout",
     "output_type": "stream",
     "text": [
      "Epoch 1/5\n",
      "\u001b[1m219/219\u001b[0m \u001b[32m━━━━━━━━━━━━━━━━━━━━\u001b[0m\u001b[37m\u001b[0m \u001b[1m2s\u001b[0m 4ms/step - loss: 0.2270 - mean_squared_error: 0.2270 - val_loss: 0.0688 - val_mean_squared_error: 0.0688\n",
      "Epoch 2/5\n",
      "\u001b[1m219/219\u001b[0m \u001b[32m━━━━━━━━━━━━━━━━━━━━\u001b[0m\u001b[37m\u001b[0m \u001b[1m1s\u001b[0m 3ms/step - loss: 0.0563 - mean_squared_error: 0.0563 - val_loss: 0.0345 - val_mean_squared_error: 0.0345\n",
      "Epoch 3/5\n",
      "\u001b[1m219/219\u001b[0m \u001b[32m━━━━━━━━━━━━━━━━━━━━\u001b[0m\u001b[37m\u001b[0m \u001b[1m1s\u001b[0m 3ms/step - loss: 0.0292 - mean_squared_error: 0.0292 - val_loss: 0.0201 - val_mean_squared_error: 0.0201\n",
      "Epoch 4/5\n",
      "\u001b[1m219/219\u001b[0m \u001b[32m━━━━━━━━━━━━━━━━━━━━\u001b[0m\u001b[37m\u001b[0m \u001b[1m1s\u001b[0m 3ms/step - loss: 0.0178 - mean_squared_error: 0.0178 - val_loss: 0.0134 - val_mean_squared_error: 0.0134\n",
      "Epoch 5/5\n",
      "\u001b[1m219/219\u001b[0m \u001b[32m━━━━━━━━━━━━━━━━━━━━\u001b[0m\u001b[37m\u001b[0m \u001b[1m1s\u001b[0m 3ms/step - loss: 0.0132 - mean_squared_error: 0.0132 - val_loss: 0.0103 - val_mean_squared_error: 0.0103\n"
     ]
    }
   ],
   "source": [
    "# Model training\n",
    "\n",
    "history_linear = model_linear.fit(X_train, y_train, epochs=no_training_epochs, validation_data=[X_valid, y_valid])"
   ]
  },
  {
   "cell_type": "code",
   "execution_count": 113,
   "id": "t9IahRnYqSi4",
   "metadata": {
    "executionInfo": {
     "elapsed": 255,
     "status": "ok",
     "timestamp": 1712496751241,
     "user": {
      "displayName": "Jan Bolcek",
      "userId": "11245949610672084450"
     },
     "user_tz": -120
    },
    "id": "t9IahRnYqSi4"
   },
   "outputs": [],
   "source": [
    "def plot_function(history):\n",
    "  plt.figure()\n",
    "\n",
    "  plt.plot(history.history['loss'], label='loss')\n",
    "  plt.plot(history.history['val_loss'], label='validation_loss')\n",
    "  plt.legend()\n",
    "  plt.grid()\n",
    "  plt.xlim([0,no_training_epochs-1])\n",
    "  plt.xlabel('epochs')"
   ]
  },
  {
   "cell_type": "code",
   "execution_count": 114,
   "id": "wMAEXxYiwKYo",
   "metadata": {
    "colab": {
     "base_uri": "https://localhost:8080/",
     "height": 449
    },
    "executionInfo": {
     "elapsed": 932,
     "status": "ok",
     "timestamp": 1712496753032,
     "user": {
      "displayName": "Jan Bolcek",
      "userId": "11245949610672084450"
     },
     "user_tz": -120
    },
    "id": "wMAEXxYiwKYo",
    "outputId": "31e1a44e-9ea1-421c-a6ca-60933126c755"
   },
   "outputs": [
    {
     "data": {
      "image/png": "[encoded data removed]",
      "text/plain": [
       "<Figure size 640x480 with 1 Axes>"
      ]
     },
     "metadata": {},
     "output_type": "display_data"
    }
   ],
   "source": [
    "plot_function(history_linear)"
   ]
  },
  {
   "cell_type": "code",
   "execution_count": 115,
   "id": "nKnuXHSSqV8n",
   "metadata": {
    "colab": {
     "base_uri": "https://localhost:8080/"
    },
    "executionInfo": {
     "elapsed": 252,
     "status": "ok",
     "timestamp": 1712496773935,
     "user": {
      "displayName": "Jan Bolcek",
      "userId": "11245949610672084450"
     },
     "user_tz": -120
    },
    "id": "nKnuXHSSqV8n",
    "outputId": "846d2850-e2ec-43aa-b9d0-6c8e958b0b35"
   },
   "outputs": [
    {
     "name": "stdout",
     "output_type": "stream",
     "text": [
      "Test loss: 0.010430365800857544\n",
      "Test MSE:  0.010430365800857544\n"
     ]
    }
   ],
   "source": [
    "score = model_linear.evaluate(X_test, y_test, verbose=0)\n",
    "print('Test loss:', score[0])\n",
    "print(f'Test MSE: ', score[1])"
   ]
  },
  {
   "cell_type": "markdown",
   "id": "odHZYob8rf4B",
   "metadata": {
    "id": "odHZYob8rf4B"
   },
   "source": [
    "### 1.5 Simple RNN Model"
   ]
  },
  {
   "cell_type": "code",
   "execution_count": 116,
   "id": "jRSMY-2GrAI5",
   "metadata": {
    "executionInfo": {
     "elapsed": 324,
     "status": "ok",
     "timestamp": 1712496778865,
     "user": {
      "displayName": "Jan Bolcek",
      "userId": "11245949610672084450"
     },
     "user_tz": -120
    },
    "id": "jRSMY-2GrAI5"
   },
   "outputs": [],
   "source": [
    "model_simple_rnn = keras.Sequential()\n",
    "model_simple_rnn.add(keras.layers.SimpleRNN(1, input_shape=[50, 1]))"
   ]
  },
  {
   "cell_type": "code",
   "execution_count": 117,
   "id": "a4O10LpTtPun",
   "metadata": {
    "executionInfo": {
     "elapsed": 2,
     "status": "ok",
     "timestamp": 1712496779882,
     "user": {
      "displayName": "Jan Bolcek",
      "userId": "11245949610672084450"
     },
     "user_tz": -120
    },
    "id": "a4O10LpTtPun"
   },
   "outputs": [],
   "source": [
    "learning_rate_simple_rnn = 0.001\n",
    "optimizer_simple_rnn = keras.optimizers.Adam(learning_rate_simple_rnn)\n",
    "model_simple_rnn.compile(loss='mean_squared_error', optimizer=optimizer_simple_rnn, metrics=['mean_squared_error'])"
   ]
  },
  {
   "cell_type": "code",
   "execution_count": 118,
   "id": "kvkCnmGDtaSo",
   "metadata": {
    "colab": {
     "base_uri": "https://localhost:8080/"
    },
    "executionInfo": {
     "elapsed": 83229,
     "status": "ok",
     "timestamp": 1712496863997,
     "user": {
      "displayName": "Jan Bolcek",
      "userId": "11245949610672084450"
     },
     "user_tz": -120
    },
    "id": "kvkCnmGDtaSo",
    "outputId": "c26c87e9-8f23-4a5d-da81-aec50340b8ac"
   },
   "outputs": [
    {
     "name": "stdout",
     "output_type": "stream",
     "text": [
      "Epoch 1/5\n",
      "\u001b[1m219/219\u001b[0m \u001b[32m━━━━━━━━━━━━━━━━━━━━\u001b[0m\u001b[37m\u001b[0m \u001b[1m4s\u001b[0m 9ms/step - loss: 0.2888 - mean_squared_error: 0.2888 - val_loss: 0.1833 - val_mean_squared_error: 0.1833\n",
      "Epoch 2/5\n",
      "\u001b[1m219/219\u001b[0m \u001b[32m━━━━━━━━━━━━━━━━━━━━\u001b[0m\u001b[37m\u001b[0m \u001b[1m2s\u001b[0m 7ms/step - loss: 0.1498 - mean_squared_error: 0.1498 - val_loss: 0.0821 - val_mean_squared_error: 0.0821\n",
      "Epoch 3/5\n",
      "\u001b[1m219/219\u001b[0m \u001b[32m━━━━━━━━━━━━━━━━━━━━\u001b[0m\u001b[37m\u001b[0m \u001b[1m2s\u001b[0m 8ms/step - loss: 0.0708 - mean_squared_error: 0.0708 - val_loss: 0.0538 - val_mean_squared_error: 0.0538\n",
      "Epoch 4/5\n",
      "\u001b[1m219/219\u001b[0m \u001b[32m━━━━━━━━━━━━━━━━━━━━\u001b[0m\u001b[37m\u001b[0m \u001b[1m2s\u001b[0m 7ms/step - loss: 0.0515 - mean_squared_error: 0.0515 - val_loss: 0.0458 - val_mean_squared_error: 0.0458\n",
      "Epoch 5/5\n",
      "\u001b[1m219/219\u001b[0m \u001b[32m━━━━━━━━━━━━━━━━━━━━\u001b[0m\u001b[37m\u001b[0m \u001b[1m2s\u001b[0m 8ms/step - loss: 0.0444 - mean_squared_error: 0.0444 - val_loss: 0.0406 - val_mean_squared_error: 0.0406\n"
     ]
    }
   ],
   "source": [
    "history_simple_rnn = model_simple_rnn.fit(X_train, y_train, epochs=no_training_epochs, validation_data=[X_valid, y_valid])"
   ]
  },
  {
   "cell_type": "code",
   "execution_count": 119,
   "id": "a7b9ss0XJLUs",
   "metadata": {
    "id": "a7b9ss0XJLUs"
   },
   "outputs": [
    {
     "data": {
      "image/png": "[encoded data removed]",
      "text/plain": [
       "<Figure size 640x480 with 1 Axes>"
      ]
     },
     "metadata": {},
     "output_type": "display_data"
    }
   ],
   "source": [
    "plot_function(history_simple_rnn)"
   ]
  },
  {
   "cell_type": "markdown",
   "id": "NxaXF_ZKuMSN",
   "metadata": {
    "id": "NxaXF_ZKuMSN"
   },
   "source": [
    "### 1.5 Deep RNN Model"
   ]
  },
  {
   "cell_type": "code",
   "execution_count": 120,
   "id": "Vf6SRKUGtgQU",
   "metadata": {
    "executionInfo": {
     "elapsed": 274,
     "status": "ok",
     "timestamp": 1712496864262,
     "user": {
      "displayName": "Jan Bolcek",
      "userId": "11245949610672084450"
     },
     "user_tz": -120
    },
    "id": "Vf6SRKUGtgQU"
   },
   "outputs": [],
   "source": [
    "model_deep_rnn = keras.Sequential()\n",
    "model_deep_rnn.add(keras.layers.SimpleRNN(20, return_sequences = True, input_shape=[50, 1]))\n",
    "model_deep_rnn.add(keras.layers.SimpleRNN(20, return_sequences = True))\n",
    "model_deep_rnn.add(keras.layers.SimpleRNN(1, input_shape=[50, 1]))"
   ]
  },
  {
   "cell_type": "code",
   "execution_count": 121,
   "id": "rykrG5VXuZ6s",
   "metadata": {
    "executionInfo": {
     "elapsed": 3,
     "status": "ok",
     "timestamp": 1712496864262,
     "user": {
      "displayName": "Jan Bolcek",
      "userId": "11245949610672084450"
     },
     "user_tz": -120
    },
    "id": "rykrG5VXuZ6s"
   },
   "outputs": [],
   "source": [
    "learning_rate_deep_rnn = 0.001\n",
    "optimizer_deep_rnn = keras.optimizers.Adam(learning_rate_deep_rnn)\n",
    "model_deep_rnn.compile(loss='mean_squared_error', optimizer=optimizer_deep_rnn, metrics=['mean_squared_error'])"
   ]
  },
  {
   "cell_type": "code",
   "execution_count": 122,
   "id": "TX-nr2jOuhIm",
   "metadata": {
    "colab": {
     "base_uri": "https://localhost:8080/"
    },
    "executionInfo": {
     "elapsed": 157855,
     "status": "ok",
     "timestamp": 1712497022114,
     "user": {
      "displayName": "Jan Bolcek",
      "userId": "11245949610672084450"
     },
     "user_tz": -120
    },
    "id": "TX-nr2jOuhIm",
    "outputId": "817b66d9-a353-496c-a900-804b57512f2b"
   },
   "outputs": [
    {
     "name": "stdout",
     "output_type": "stream",
     "text": [
      "Epoch 1/5\n",
      "\u001b[1m219/219\u001b[0m \u001b[32m━━━━━━━━━━━━━━━━━━━━\u001b[0m\u001b[37m\u001b[0m \u001b[1m7s\u001b[0m 16ms/step - loss: 0.0517 - mean_squared_error: 0.0517 - val_loss: 0.0046 - val_mean_squared_error: 0.0046\n",
      "Epoch 2/5\n",
      "\u001b[1m219/219\u001b[0m \u001b[32m━━━━━━━━━━━━━━━━━━━━\u001b[0m\u001b[37m\u001b[0m \u001b[1m3s\u001b[0m 14ms/step - loss: 0.0044 - mean_squared_error: 0.0044 - val_loss: 0.0031 - val_mean_squared_error: 0.0031\n",
      "Epoch 3/5\n",
      "\u001b[1m219/219\u001b[0m \u001b[32m━━━━━━━━━━━━━━━━━━━━\u001b[0m\u001b[37m\u001b[0m \u001b[1m3s\u001b[0m 14ms/step - loss: 0.0033 - mean_squared_error: 0.0033 - val_loss: 0.0029 - val_mean_squared_error: 0.0029\n",
      "Epoch 4/5\n",
      "\u001b[1m219/219\u001b[0m \u001b[32m━━━━━━━━━━━━━━━━━━━━\u001b[0m\u001b[37m\u001b[0m \u001b[1m3s\u001b[0m 15ms/step - loss: 0.0032 - mean_squared_error: 0.0032 - val_loss: 0.0031 - val_mean_squared_error: 0.0031\n",
      "Epoch 5/5\n",
      "\u001b[1m219/219\u001b[0m \u001b[32m━━━━━━━━━━━━━━━━━━━━\u001b[0m\u001b[37m\u001b[0m \u001b[1m3s\u001b[0m 15ms/step - loss: 0.0030 - mean_squared_error: 0.0030 - val_loss: 0.0030 - val_mean_squared_error: 0.0030\n"
     ]
    }
   ],
   "source": [
    "history_deep_rnn = model_deep_rnn.fit(X_train, y_train, epochs=no_training_epochs, validation_data=[X_valid, y_valid])"
   ]
  },
  {
   "cell_type": "code",
   "execution_count": 123,
   "id": "W2JOVZAlw2I6",
   "metadata": {
    "colab": {
     "base_uri": "https://localhost:8080/"
    },
    "executionInfo": {
     "elapsed": 249,
     "status": "ok",
     "timestamp": 1712497022352,
     "user": {
      "displayName": "Jan Bolcek",
      "userId": "11245949610672084450"
     },
     "user_tz": -120
    },
    "id": "W2JOVZAlw2I6",
    "outputId": "0229cc35-6301-48b5-ef1f-2f9126c9fd4b"
   },
   "outputs": [
    {
     "name": "stdout",
     "output_type": "stream",
     "text": [
      "Test loss: 0.003173595992848277\n",
      "Test MSE:  0.003173595992848277\n"
     ]
    }
   ],
   "source": [
    "score = model_deep_rnn.evaluate(X_test, y_test, verbose=0)\n",
    "print('Test loss:', score[0])\n",
    "print(f'Test MSE: ', score[1])"
   ]
  },
  {
   "cell_type": "code",
   "execution_count": 124,
   "id": "h-RBk92nJSXt",
   "metadata": {
    "id": "h-RBk92nJSXt"
   },
   "outputs": [
    {
     "data": {
      "image/png": "[encoded data removed]",
      "text/plain": [
       "<Figure size 640x480 with 1 Axes>"
      ]
     },
     "metadata": {},
     "output_type": "display_data"
    }
   ],
   "source": [
    "plot_function(history_simple_rnn)"
   ]
  },
  {
   "cell_type": "markdown",
   "id": "YKleL3gVxWhk",
   "metadata": {
    "id": "YKleL3gVxWhk"
   },
   "source": [
    "## Exercise 2 - The movie review\n",
    "\n",
    "\n"
   ]
  },
  {
   "cell_type": "markdown",
   "id": "nGOfR9_RI27U",
   "metadata": {
    "id": "nGOfR9_RI27U"
   },
   "source": [
    "Based on the written rewiev, classify if the movie if good or bad"
   ]
  },
  {
   "cell_type": "markdown",
   "id": "DeJiO_Vxxz7P",
   "metadata": {
    "id": "DeJiO_Vxxz7P"
   },
   "source": [
    "### 2.0 - Import libraries"
   ]
  },
  {
   "cell_type": "markdown",
   "id": "_ebMTkFqx65l",
   "metadata": {
    "id": "_ebMTkFqx65l"
   },
   "source": [
    "### 2.1 - Load dataset"
   ]
  },
  {
   "cell_type": "code",
   "execution_count": 173,
   "id": "zHTtEPlsq85X",
   "metadata": {
    "executionInfo": {
     "elapsed": 54892,
     "status": "ok",
     "timestamp": 1712505549865,
     "user": {
      "displayName": "Jan Bolcek",
      "userId": "11245949610672084450"
     },
     "user_tz": -120
    },
    "id": "zHTtEPlsq85X"
   },
   "outputs": [
    {
     "name": "stdout",
     "output_type": "stream",
     "text": [
      "(25000, 25000) (25000,)\n"
     ]
    }
   ],
   "source": [
    "size = 1000\n",
    "(X_train, y_train), (X_test, y_test) = keras.datasets.imdb.load_data(num_words=1000)\n",
    "print(X_train.shape+X_test.shape, y_train.shape)"
   ]
  },
  {
   "cell_type": "markdown",
   "id": "K6UogxMDx_Y-",
   "metadata": {
    "id": "K6UogxMDx_Y-"
   },
   "source": [
    "### 2.2 - Dataset examination"
   ]
  },
  {
   "cell_type": "code",
   "execution_count": 174,
   "id": "9jLwcwPxyTD5",
   "metadata": {
    "executionInfo": {
     "elapsed": 13,
     "status": "ok",
     "timestamp": 1712505549865,
     "user": {
      "displayName": "Jan Bolcek",
      "userId": "11245949610672084450"
     },
     "user_tz": -120
    },
    "id": "9jLwcwPxyTD5"
   },
   "outputs": [],
   "source": [
    "word_index = keras.datasets.imdb.get_word_index()\n",
    "id_to_word = {id_ + 3:word for word, id_ in word_index.items()}\n",
    "for id_, token in enumerate((\"<pad>\", \"<sos>\", \"<unk>\")):\n",
    "  id_to_word[id_] = token"
   ]
  },
  {
   "cell_type": "code",
   "execution_count": 175,
   "id": "c8yXphQIyXZB",
   "metadata": {
    "executionInfo": {
     "elapsed": 13,
     "status": "ok",
     "timestamp": 1712505549865,
     "user": {
      "displayName": "Jan Bolcek",
      "userId": "11245949610672084450"
     },
     "user_tz": -120
    },
    "id": "c8yXphQIyXZB"
   },
   "outputs": [],
   "source": [
    "single_sequence = \" \".join([id_to_word[id_] for id_ in X_train[0][:]])"
   ]
  },
  {
   "cell_type": "code",
   "execution_count": 157,
   "id": "h_1cpznZC70B",
   "metadata": {
    "colab": {
     "base_uri": "https://localhost:8080/",
     "height": 127
    },
    "executionInfo": {
     "elapsed": 13,
     "status": "ok",
     "timestamp": 1712505549865,
     "user": {
      "displayName": "Jan Bolcek",
      "userId": "11245949610672084450"
     },
     "user_tz": -120
    },
    "id": "h_1cpznZC70B",
    "outputId": "ded89552-0737-4c17-cfec-cfd60dcd6392"
   },
   "outputs": [
    {
     "name": "stdout",
     "output_type": "stream",
     "text": [
      "<sos> this film was just brilliant casting location scenery story direction everyone's really suited the part they played and you could just imagine being there robert redford's is an amazing actor and now the same being director norman's father came from the same scottish island as myself so i loved the fact there was a real connection with this film the witty remarks throughout the film were great it was just brilliant so much that i bought the film as soon as it was released for retail and would recommend it to everyone to watch and the fly fishing was amazing really cried at the end it was so sad and you know what they say if you cry at a film it must have been good and this definitely was also congratulations to the two little boy's that played the part's of norman and paul they were just brilliant\n"
     ]
    }
   ],
   "source": [
    "print(single_sequence)"
   ]
  },
  {
   "cell_type": "code",
   "execution_count": 176,
   "id": "4vRZPUGr3w_m",
   "metadata": {
    "executionInfo": {
     "elapsed": 262,
     "status": "ok",
     "timestamp": 1712505825406,
     "user": {
      "displayName": "Jan Bolcek",
      "userId": "11245949610672084450"
     },
     "user_tz": -120
    },
    "id": "4vRZPUGr3w_m"
   },
   "outputs": [],
   "source": [
    "max_length = 150  # Define the maximum length of a review\n",
    "X_train = keras.preprocessing.sequence.pad_sequences(X_train, maxlen=max_length, padding='post', truncating='post', value=0)\n",
    "X_test = keras.preprocessing.sequence.pad_sequences(X_test, maxlen=max_length, padding='post', truncating='post', value=0)"
   ]
  },
  {
   "cell_type": "code",
   "execution_count": 181,
   "id": "NhzI5klo1pYp",
   "metadata": {
    "executionInfo": {
     "elapsed": 483,
     "status": "ok",
     "timestamp": 1712505959637,
     "user": {
      "displayName": "Jan Bolcek",
      "userId": "11245949610672084450"
     },
     "user_tz": -120
    },
    "id": "NhzI5klo1pYp"
   },
   "outputs": [],
   "source": [
    "embed_size = 128\n",
    "vocabulary_size = 1000\n",
    "\n",
    "model = keras.models.Sequential([\n",
    "    keras.layers.Embedding(vocabulary_size, embed_size, input_shape=[None]),\n",
    "    \n",
    "    keras.layers.Bidirectional(keras.layers.LSTM(128, return_sequences=True, dropout=0.3, recurrent_dropout=0.3)),\n",
    "    keras.layers.Bidirectional(keras.layers.GRU(128, dropout=0.3, recurrent_dropout=0.3)),\n",
    "\n",
    "    keras.layers.BatchNormalization(),\n",
    "    keras.layers.Dense(64, activation='relu'),\n",
    "    keras.layers.Dropout(0.3),\n",
    "    \n",
    "    keras.layers.Dense(1, activation='sigmoid')\n",
    "])\n",
    "\n"
   ]
  },
  {
   "cell_type": "code",
   "execution_count": 182,
   "id": "lCz9ZWgNbhaZ",
   "metadata": {
    "executionInfo": {
     "elapsed": 324,
     "status": "ok",
     "timestamp": 1712505961819,
     "user": {
      "displayName": "Jan Bolcek",
      "userId": "11245949610672084450"
     },
     "user_tz": -120
    },
    "id": "lCz9ZWgNbhaZ"
   },
   "outputs": [],
   "source": [
    "optimizer = keras.optimizers.Adam(learning_rate = 0.001)"
   ]
  },
  {
   "cell_type": "code",
   "execution_count": 183,
   "id": "7fdxNF0h28jf",
   "metadata": {
    "executionInfo": {
     "elapsed": 2,
     "status": "ok",
     "timestamp": 1712505962620,
     "user": {
      "displayName": "Jan Bolcek",
      "userId": "11245949610672084450"
     },
     "user_tz": -120
    },
    "id": "7fdxNF0h28jf"
   },
   "outputs": [],
   "source": [
    "model.compile(loss=\"binary_crossentropy\", optimizer=optimizer, metrics=[\"accuracy\"])"
   ]
  },
  {
   "cell_type": "code",
   "execution_count": 184,
   "id": "lIVFi9qT3gzy",
   "metadata": {
    "colab": {
     "base_uri": "https://localhost:8080/"
    },
    "executionInfo": {
     "elapsed": 701010,
     "status": "ok",
     "timestamp": 1712506664698,
     "user": {
      "displayName": "Jan Bolcek",
      "userId": "11245949610672084450"
     },
     "user_tz": -120
    },
    "id": "lIVFi9qT3gzy",
    "outputId": "bec4342f-af9b-4f6d-ce79-0199e67de5bb"
   },
   "outputs": [
    {
     "name": "stdout",
     "output_type": "stream",
     "text": [
      "Epoch 1/5\n",
      "\u001b[1m625/625\u001b[0m \u001b[32m━━━━━━━━━━━━━━━━━━━━\u001b[0m\u001b[37m\u001b[0m \u001b[1m952s\u001b[0m 2s/step - accuracy: 0.5891 - loss: 0.6812 - val_accuracy: 0.5080 - val_loss: 0.9186\n",
      "Epoch 2/5\n",
      "\u001b[1m625/625\u001b[0m \u001b[32m━━━━━━━━━━━━━━━━━━━━\u001b[0m\u001b[37m\u001b[0m \u001b[1m870s\u001b[0m 1s/step - accuracy: 0.6806 - loss: 0.5876 - val_accuracy: 0.7718 - val_loss: 0.4790\n",
      "Epoch 3/5\n",
      "\u001b[1m625/625\u001b[0m \u001b[32m━━━━━━━━━━━━━━━━━━━━\u001b[0m\u001b[37m\u001b[0m \u001b[1m1734s\u001b[0m 3s/step - accuracy: 0.8042 - loss: 0.4277 - val_accuracy: 0.8178 - val_loss: 0.3995\n",
      "Epoch 4/5\n",
      "\u001b[1m625/625\u001b[0m \u001b[32m━━━━━━━━━━━━━━━━━━━━\u001b[0m\u001b[37m\u001b[0m \u001b[1m568s\u001b[0m 908ms/step - accuracy: 0.8305 - loss: 0.3857 - val_accuracy: 0.8060 - val_loss: 0.4344\n",
      "Epoch 5/5\n",
      "\u001b[1m625/625\u001b[0m \u001b[32m━━━━━━━━━━━━━━━━━━━━\u001b[0m\u001b[37m\u001b[0m \u001b[1m547s\u001b[0m 875ms/step - accuracy: 0.8412 - loss: 0.3613 - val_accuracy: 0.8302 - val_loss: 0.3800\n"
     ]
    }
   ],
   "source": [
    "history = model.fit(X_train, y_train, epochs= 5, validation_split= 0.2)"
   ]
  },
  {
   "cell_type": "code",
   "execution_count": 185,
   "id": "69zrgeNHIau6",
   "metadata": {
    "colab": {
     "base_uri": "https://localhost:8080/"
    },
    "executionInfo": {
     "elapsed": 17991,
     "status": "ok",
     "timestamp": 1712506741664,
     "user": {
      "displayName": "Jan Bolcek",
      "userId": "11245949610672084450"
     },
     "user_tz": -120
    },
    "id": "69zrgeNHIau6",
    "outputId": "438f43d3-823f-4808-8dca-b88ec78a9d77"
   },
   "outputs": [
    {
     "name": "stdout",
     "output_type": "stream",
     "text": [
      "Test loss: 0.3656410872936249\n",
      "Test accuracy:  83.54799747467041 %\n"
     ]
    }
   ],
   "source": [
    "score = model.evaluate(X_test, y_test, verbose=0)\n",
    "print('Test loss:', score[0])\n",
    "print(f'Test accuracy: ', score[1]*100, \"%\")"
   ]
  },
  {
   "cell_type": "markdown",
   "id": "ZtA1O3R1RArG",
   "metadata": {
    "id": "ZtA1O3R1RArG"
   },
   "source": [
    "TASK: Modify structure, change the core of the network from RNN to LTSM and GRU. Compare the results"
   ]
  }
 ],
 "metadata": {
  "accelerator": "GPU",
  "colab": {
   "gpuType": "T4",
   "provenance": []
  },
  "kernelspec": {
   "display_name": ".venv",
   "language": "python",
   "name": "python3"
  },
  "language_info": {
   "codemirror_mode": {
    "name": "ipython",
    "version": 3
   },
   "file_extension": ".py",
   "mimetype": "text/x-python",
   "name": "python",
   "nbconvert_exporter": "python",
   "pygments_lexer": "ipython3",
   "version": "3.12.2"
  }
 },
 "nbformat": 4,
 "nbformat_minor": 5
}
